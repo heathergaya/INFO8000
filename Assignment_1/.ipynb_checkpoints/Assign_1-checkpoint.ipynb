{
 "cells": [
  {
   "cell_type": "code",
   "execution_count": 6,
   "metadata": {},
   "outputs": [
    {
     "data": {
      "text/html": [
       "<div>\n",
       "<style scoped>\n",
       "    .dataframe tbody tr th:only-of-type {\n",
       "        vertical-align: middle;\n",
       "    }\n",
       "\n",
       "    .dataframe tbody tr th {\n",
       "        vertical-align: top;\n",
       "    }\n",
       "\n",
       "    .dataframe thead th {\n",
       "        text-align: right;\n",
       "    }\n",
       "</style>\n",
       "<table border=\"1\" class=\"dataframe\">\n",
       "  <thead>\n",
       "    <tr style=\"text-align: right;\">\n",
       "      <th></th>\n",
       "      <th>Timestamp</th>\n",
       "      <th>Are you a cat person or a dog person?</th>\n",
       "      <th>What's your middle name?</th>\n",
       "      <th>On a scale of 1 - 10, how much do you hate folding laundry?</th>\n",
       "    </tr>\n",
       "  </thead>\n",
       "  <tbody>\n",
       "    <tr>\n",
       "      <td>0</td>\n",
       "      <td>1/8/2020 15:14:37</td>\n",
       "      <td>Cat Person</td>\n",
       "      <td>Test</td>\n",
       "      <td>3</td>\n",
       "    </tr>\n",
       "  </tbody>\n",
       "</table>\n",
       "</div>"
      ],
      "text/plain": [
       "           Timestamp Are you a cat person or a dog person?  \\\n",
       "0  1/8/2020 15:14:37                            Cat Person   \n",
       "\n",
       "  What's your middle name?  \\\n",
       "0                     Test   \n",
       "\n",
       "   On a scale of 1 - 10, how much do you hate folding laundry?  \n",
       "0                                                  3            "
      ]
     },
     "execution_count": 6,
     "metadata": {},
     "output_type": "execute_result"
    }
   ],
   "source": [
    "#open this link first to fill out form: https://forms.gle/scP4ZELKnpP1ZU619 \n",
    "import requests #great web library\n",
    "import pandas as pd #great table/dataframe library\n",
    "doc_id = \"16N7fGLnTjfoUXtmDSbDZ5vP4OtzQfDBmwH6nb5KpI1Q\" \n",
    "url = f\"https://docs.google.com/spreadsheets/d/{doc_id}/gviz/tq?tqx=out:csv\" \n",
    "res = requests.get(url,allow_redirects=True) #Does the download\n",
    "open('./temp.csv', 'wb').write(res.content) \n",
    "\n",
    "df = pd.read_csv('./temp.csv') #so that we can read it\n",
    "df.head() #so we can see that it worked\n"
   ]
  },
  {
   "cell_type": "code",
   "execution_count": null,
   "metadata": {},
   "outputs": [],
   "source": []
  },
  {
   "cell_type": "code",
   "execution_count": null,
   "metadata": {},
   "outputs": [],
   "source": []
  }
 ],
 "metadata": {
  "kernelspec": {
   "display_name": "Python 3",
   "language": "python",
   "name": "python3"
  },
  "language_info": {
   "codemirror_mode": {
    "name": "ipython",
    "version": 3
   },
   "file_extension": ".py",
   "mimetype": "text/x-python",
   "name": "python",
   "nbconvert_exporter": "python",
   "pygments_lexer": "ipython3",
   "version": "3.7.4"
  }
 },
 "nbformat": 4,
 "nbformat_minor": 4
}
